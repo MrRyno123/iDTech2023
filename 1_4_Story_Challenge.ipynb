{
  "nbformat": 4,
  "nbformat_minor": 0,
  "metadata": {
    "colab": {
      "name": "1.4_Story_Challenge.ipynb",
      "provenance": [],
      "include_colab_link": true
    },
    "kernelspec": {
      "name": "python3",
      "display_name": "Python 3"
    },
    "language_info": {
      "name": "python"
    }
  },
  "cells": [
    {
      "cell_type": "markdown",
      "metadata": {
        "id": "view-in-github",
        "colab_type": "text"
      },
      "source": [
        "<a href=\"https://colab.research.google.com/github/MrRyno123/iDTech2023/blob/main/1_4_Story_Challenge.ipynb\" target=\"_parent\"><img src=\"https://colab.research.google.com/assets/colab-badge.svg\" alt=\"Open In Colab\"/></a>"
      ]
    },
    {
      "cell_type": "markdown",
      "metadata": {
        "id": "pmgS0fuOYTwM"
      },
      "source": [
        "#Story Challenge\n",
        "\n",
        "In this notebook you will create a story that prints out to the user. You can use multiple print statements or one huge one, it's up to you!"
      ]
    },
    {
      "cell_type": "code",
      "metadata": {
        "id": "uwHRylCsYDFQ"
      },
      "source": [],
      "execution_count": null,
      "outputs": []
    },
    {
      "cell_type": "markdown",
      "metadata": {
        "id": "TpoPxHD2Yr4H"
      },
      "source": [
        "###Bonus Challenge\n",
        "\n",
        "If you want to step up your story, use user input and variables to create a mad libs style project.\n",
        "\n",
        "Get some verbs, nouns, adjectives, and names from the user and insert them into your story.\n"
      ]
    },
    {
      "cell_type": "code",
      "metadata": {
        "id": "ySlrVAXZY_Oh",
        "outputId": "6ae706a4-295b-4537-a075-ef4825a14c69",
        "colab": {
          "base_uri": "https://localhost:8080/"
        }
      },
      "source": [
        "noun = input(\"Please enter a noun.\\n\")\n",
        "adjective = input(\"Please enter an adjective.\\n\")\n",
        "verb = input(\"Please enter a verb.\\n\")\n",
        "adv = input(\"Please enter an adverb.\\n\")\n",
        "noun2 = input(\"Please enter a second noun.\\n\")\n",
        "adjective2 = input(\"Please enter a second adjective.\\n\")\n",
        "verb2 = input(\"Please enter a past tense verb.\\n\")\n",
        "adv2 = input(\"Please enter a second adverb.\\n\")\n",
        "print(\"Once upon a time there was a \" + adjective + \" \" + noun + \" who loved to \" + verb + \" \" + adv + \".\")\n",
        "print(\"The next day, it \"+ verb2 + \" \" + adv2 + \" into a \" + adjective2 + \" \" + noun2 + \".\")"
      ],
      "execution_count": 3,
      "outputs": [
        {
          "output_type": "stream",
          "name": "stdout",
          "text": [
            "Please enter a noun.\n",
            "cat\n",
            "Please enter an adjective.\n",
            "red\n",
            "Please enter a verb.\n",
            "move\n",
            "Please enter an adverb.\n",
            "slyly\n",
            "Please enter a second noun.\n",
            "fridge\n",
            "Please enter a second adjective.\n",
            "large\n",
            "Please enter a past tense verb.\n",
            "ran\n",
            "Please enter a second adverb.\n",
            "softly\n",
            "Once upon a time there was a red cat who loved to move slyly.\n",
            "The next day, it ran softly into a large fridge.\n"
          ]
        }
      ]
    },
    {
      "cell_type": "markdown",
      "metadata": {
        "id": "n3cMjYJqiM_h"
      },
      "source": [
        "###Extra Bonus Challenge\n",
        "\n",
        "Create a choose your own adventure story that gets user input to choose a path through the story. Use conditionals to print different stories depending on what the user wants to do."
      ]
    }
  ]
}