{
  "nbformat": 4,
  "nbformat_minor": 0,
  "metadata": {
    "colab": {
      "name": "1.2_User_Input.ipynb",
      "provenance": [],
      "include_colab_link": true
    },
    "kernelspec": {
      "name": "python3",
      "display_name": "Python 3"
    },
    "language_info": {
      "name": "python"
    }
  },
  "cells": [
    {
      "cell_type": "markdown",
      "metadata": {
        "id": "view-in-github",
        "colab_type": "text"
      },
      "source": [
        "<a href=\"https://colab.research.google.com/github/MrRyno123/iDTech2023/blob/main/1_2_User_Input.ipynb\" target=\"_parent\"><img src=\"https://colab.research.google.com/assets/colab-badge.svg\" alt=\"Open In Colab\"/></a>"
      ]
    },
    {
      "cell_type": "markdown",
      "metadata": {
        "id": "myrQqqGkemTR"
      },
      "source": [
        "#User Input#\n",
        "\n",
        "It's important when you're making programs to be able to get input from a user.\n",
        "\n",
        "Whether it's in the form of them entering a username, or password, using a keyboard to control a player in a game, or moving around with a mouse, there's a lot of coding that's responding to input from users.\n",
        "\n",
        "In the programs you've been working on, if you want the user to enter information with a keyboard you'll use the input function.\n",
        "\n",
        "1. Run the cell below to see how it works."
      ]
    },
    {
      "cell_type": "code",
      "metadata": {
        "id": "Uf0eLdbLemcC"
      },
      "source": [
        "input(\"Input You're Asking For\")"
      ],
      "execution_count": null,
      "outputs": []
    },
    {
      "cell_type": "markdown",
      "metadata": {
        "id": "sg0AI5oAe8ss"
      },
      "source": [
        "You'll notice that the text box appears right after the text. You can still type but it looks kind of strange and hard to read.\n",
        "\n",
        "Can you think of some solutions for this problem?\n",
        "\n",
        "When you are ready click on this to unfold a list of suggestions.\n",
        "\n",
        "<details>\n",
        "  <summary>Click to expand!</summary>\n",
        "\n",
        " - Add a space when I'm typing.\n",
        " - Add a space at the end of the input string.\n",
        " - Make a print statement before, and have the input field be blank\n",
        "    - ie:\n",
        "    - print(\"What's your name\")\n",
        "    - input(\" \")\n",
        "\n",
        "</details>\n",
        "\n",
        "In coding there are often multiple solutions, so think about what looks best, and what makes the most sense to you and for what information you want?\n",
        "\n",
        "Asking for age on the same line as the question makes sense, but maybe if you're asking for more information, you may want to have it on a new line."
      ]
    },
    {
      "cell_type": "markdown",
      "metadata": {
        "id": "GhEG5qUif_20"
      },
      "source": [
        "#Setting Input to Variables#\n",
        "\n",
        "You can also initialize a variable to input, so to get someone's name as input and then store it as a variable:\n",
        "\n"
      ]
    },
    {
      "cell_type": "code",
      "metadata": {
        "id": "Wc8SnphBf5HZ"
      },
      "source": [
        "# Create a variable to hold the input\n",
        "name = input(\"What's your name?\\n\")\n",
        "# Print out the input\n",
        "print(name)"
      ],
      "execution_count": null,
      "outputs": []
    },
    {
      "cell_type": "markdown",
      "metadata": {
        "id": "l2BOwQ8JgYf4"
      },
      "source": [
        "1. Try asking your own question and printing out the output."
      ]
    },
    {
      "cell_type": "code",
      "metadata": {
        "id": "QiuOZZ7igcD7",
        "outputId": "3bb5b8c1-8b37-4a20-cae1-338bb3bf858f",
        "colab": {
          "base_uri": "https://localhost:8080/"
        }
      },
      "source": [
        "# Ask a question and save the input to a question here\n",
        "hometown = input(\"Where do you live?\\n\")\n",
        "print(hometown)"
      ],
      "execution_count": 2,
      "outputs": [
        {
          "output_type": "stream",
          "name": "stdout",
          "text": [
            "Where do you live?\n",
            "Connectcut\n",
            "Connectcut\n"
          ]
        }
      ]
    },
    {
      "cell_type": "markdown",
      "metadata": {
        "id": "4V8kAK-_glmG"
      },
      "source": [
        "##Combining Strings and Ints##\n",
        "When you print information out, you may want to combine multiple types of text, like a variable and a string.\n",
        "\n",
        "1. Run the cell below to see it in action."
      ]
    },
    {
      "cell_type": "code",
      "metadata": {
        "id": "STxMXd3yg9HJ"
      },
      "source": [
        "# Print a combined string out below.\n",
        "print(\"Hey \" + name + \" how are you?\")"
      ],
      "execution_count": null,
      "outputs": []
    },
    {
      "cell_type": "markdown",
      "metadata": {
        "id": "zvtP6jEUhHl1"
      },
      "source": [
        "When you run that program, you'll see it all print out as one line. It works with no errors because the name variable is also a string.\n",
        "\n",
        "Anything you enter with the input function will end up being a string.\n",
        "\n",
        "\n",
        "**What would happen if you enter a number like 14 into an input function set to a variable called age, would it be a number or a string?**\n",
        "\n",
        "When you run this cell, what happens?\n"
      ]
    },
    {
      "cell_type": "code",
      "metadata": {
        "id": "5vGYkPnrhGxO",
        "outputId": "6e76cc44-dc2b-456a-ec49-dd76bf0b1dc5",
        "colab": {
          "base_uri": "https://localhost:8080/"
        }
      },
      "source": [
        "# Create an age variable\n",
        "age = 14\n",
        "#  Print out a sentence telling you about the age.\n",
        "print(\"You're \" + str(age))"
      ],
      "execution_count": 6,
      "outputs": [
        {
          "output_type": "stream",
          "name": "stdout",
          "text": [
            "You're 14\n"
          ]
        }
      ]
    },
    {
      "cell_type": "markdown",
      "metadata": {
        "id": "neg52lQziNjf"
      },
      "source": [
        "You will probably see an error! This is because in Python print statements can't print out numbers and strings together. It can only print out one type. So to make a number a string you can put **str()** before it."
      ]
    },
    {
      "cell_type": "code",
      "metadata": {
        "id": "7HXMGWNGiNTg",
        "outputId": "c5bb02a4-d996-49ad-c5a3-7666e0daabfb",
        "colab": {
          "base_uri": "https://localhost:8080/"
        }
      },
      "source": [
        "# Convert age to a string variable so it can be compounded\n",
        "age_as_word = str(age)\n",
        "# Print out a combined string with the new variable.\n",
        "print(\"You're \" + age_as_word)"
      ],
      "execution_count": 7,
      "outputs": [
        {
          "output_type": "stream",
          "name": "stdout",
          "text": [
            "You're 14\n"
          ]
        }
      ]
    },
    {
      "cell_type": "markdown",
      "metadata": {
        "id": "jZx99NPEhvAJ"
      },
      "source": [
        "Then, if you want to make a string into a number, only if it converts, you'd put it between the parenthesis in  int() ."
      ]
    },
    {
      "cell_type": "code",
      "metadata": {
        "id": "ABn4T_ujhxp6",
        "outputId": "29396b35-1c78-43e1-a5f1-bc7248dd350e",
        "colab": {
          "base_uri": "https://localhost:8080/"
        }
      },
      "source": [
        "# Create a string age variable.\n",
        "age = \"14\"\n",
        "# Convert it here:\n",
        "age_as_a_number = int(age)\n",
        "# Print age plus three to make sure it works!\n",
        "print(age_as_a_number + 3)"
      ],
      "execution_count": 8,
      "outputs": [
        {
          "output_type": "stream",
          "name": "stdout",
          "text": [
            "17\n"
          ]
        }
      ]
    },
    {
      "cell_type": "markdown",
      "metadata": {
        "id": "-KGgzJWWjEMa"
      },
      "source": [
        "Input has a lot more to it, but this is a good start. Converting numbers to strings so you can display them, or converting strings to numbers so you can do math operations are a good place to get you started!"
      ]
    }
  ]
}