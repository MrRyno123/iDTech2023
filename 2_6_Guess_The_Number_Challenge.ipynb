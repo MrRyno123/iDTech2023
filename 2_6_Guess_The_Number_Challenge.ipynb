{
  "nbformat": 4,
  "nbformat_minor": 0,
  "metadata": {
    "colab": {
      "name": "2.6_Guess_The_Number_Challenge.ipynb",
      "provenance": [],
      "include_colab_link": true
    },
    "kernelspec": {
      "name": "python3",
      "display_name": "Python 3"
    },
    "language_info": {
      "name": "python"
    }
  },
  "cells": [
    {
      "cell_type": "markdown",
      "metadata": {
        "id": "view-in-github",
        "colab_type": "text"
      },
      "source": [
        "<a href=\"https://colab.research.google.com/github/MrRyno123/iDTech2023/blob/main/2_6_Guess_The_Number_Challenge.ipynb\" target=\"_parent\"><img src=\"https://colab.research.google.com/assets/colab-badge.svg\" alt=\"Open In Colab\"/></a>"
      ]
    },
    {
      "cell_type": "markdown",
      "metadata": {
        "id": "E1BtiRZFTl8b"
      },
      "source": [
        "#Number Guessing Game\n",
        "\n",
        "In this notebook you are challenged to use your knowledge of loops, conditionals, input, random numbers, and printing to create a number guessing game.\n",
        "\n",
        "In this challenge, you'll be making a guess the number game. Your program will generate a random number and then ask the user to guess what it is.\n",
        "\n",
        "When they guess wrong, your program will tell them if they are too high or too low.\n",
        "\n",
        "###Core Freatures Breakdown\n",
        "- Generate a random number between 1 and 100.\n",
        "\n",
        "- Let the user guess what the number is until they get it right.\n",
        "\n",
        "- Give the user feedback after each guess- tell them if their guess is too high, too low, or just right.\n",
        "\n",
        "- Begin the game again.\n"
      ]
    },
    {
      "cell_type": "code",
      "metadata": {
        "id": "-j0-ot-5TlKw"
      },
      "source": [
        "import random\n",
        "n = input(\"How many times would you like to play the number guessing game?\\n\")\n",
        "for i in range(int(n)):\n",
        "  randnum = random.randint(1,100)\n",
        "  randnum2 = random.randint(1,100)\n",
        "  while randnum == randnum2:\n",
        "    if randnum == randnum2:\n",
        "      randnum2 = random.randint(1,100)\n",
        "  print(\"Two random numbers between 1 and 100 have been generated.\")\n",
        "  print(\"Guessing one number will win you the game, while guessing the other will be game over.\")\n",
        "  print(\"You will receive hints towards guessing the winning number. Good Luck!\")\n",
        "  guesses = 0\n",
        "  guess_board = []\n",
        "  while True:\n",
        "    guess = int(input())\n",
        "    if guess == randnum:\n",
        "      guesses += 1\n",
        "      print(\"You guessed the number in \" + str(guesses) + \" guesses.\")\n",
        "      guess_board.append(guesses)\n",
        "      break\n",
        "    elif guess == randnum2:\n",
        "      print(\"You guessed the death number.\")\n",
        "      break\n",
        "    elif guess > randnum:\n",
        "      guesses += 1\n",
        "      print(\"You guessed too high. Please guess again.\")\n",
        "    else:\n",
        "      guesses += 1\n",
        "      print(\"You guessed too low. Please guess again.\")\n",
        "best_guess = 999999999\n",
        "for i in guess_board:\n",
        "  if i < best_guess:\n",
        "    best_guess = i\n",
        "print(\"Your lowest number of guesses was \" + str(best_guess) + \".\")\n",
        "\n"
      ],
      "execution_count": null,
      "outputs": []
    },
    {
      "cell_type": "markdown",
      "metadata": {
        "id": "ogeubfG_UYxb"
      },
      "source": [
        "###Bonus Features\n",
        "\n",
        "- Create a variable to keep track of the number of gueses\n",
        "\n",
        "- Add another loop so that the game can be played a set number of times\n",
        "\n",
        "- Save all the number of guesses to a list, and tell the user what the best score is.\n",
        "\n",
        "- Add a second death number that the user is trying to avoid, and if the user guesses that number the game is over.\n",
        "\n",
        "- Add a function for code that you re-use often, like getting user input or generating the random number\n"
      ]
    }
  ]
}